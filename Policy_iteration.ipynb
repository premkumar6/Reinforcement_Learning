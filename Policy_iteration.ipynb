{
  "nbformat": 4,
  "nbformat_minor": 0,
  "metadata": {
    "colab": {
      "name": "Policy_iteration.ipynb",
      "provenance": [],
      "authorship_tag": "ABX9TyP2wifa4oCWfwxxvqW3qg/N",
      "include_colab_link": true
    },
    "kernelspec": {
      "name": "python3",
      "display_name": "Python 3"
    },
    "language_info": {
      "name": "python"
    }
  },
  "cells": [
    {
      "cell_type": "markdown",
      "metadata": {
        "id": "view-in-github",
        "colab_type": "text"
      },
      "source": [
        "<a href=\"https://colab.research.google.com/github/premkumar6/Reinforcement_Learning/blob/main/Policy_iteration.ipynb\" target=\"_parent\"><img src=\"https://colab.research.google.com/assets/colab-badge.svg\" alt=\"Open In Colab\"/></a>"
      ]
    },
    {
      "cell_type": "code",
      "metadata": {
        "id": "wuJ0ORJi53mP"
      },
      "source": [
        "import numpy as np\n",
        "import pprint\n",
        "import sys\n",
        "if \"../\" not in sys.path:\n",
        "  sys.path.append(\"../\") "
      ],
      "execution_count": 1,
      "outputs": []
    },
    {
      "cell_type": "code",
      "metadata": {
        "colab": {
          "base_uri": "https://localhost:8080/"
        },
        "id": "8MR25f90-fxJ",
        "outputId": "823ecbd4-b4e9-400b-9d6a-b37f55377880"
      },
      "source": [
        "import gym\n",
        "env = gym.make('FrozenLake-v0')\n",
        "env.reset()"
      ],
      "execution_count": 2,
      "outputs": [
        {
          "output_type": "execute_result",
          "data": {
            "text/plain": [
              "0"
            ]
          },
          "metadata": {
            "tags": []
          },
          "execution_count": 2
        }
      ]
    },
    {
      "cell_type": "code",
      "metadata": {
        "id": "5A-i-Bc9-0Ae"
      },
      "source": [
        "def policy_eval(policy, discount_factor=1.0 , thetha=0.00001):\n",
        "  \"\"\"\n",
        "  Evaluate a policy given an environment and a full description of the environment's dynamics\n",
        "\n",
        "  Args:\n",
        "  policy: [S,A] shaped matrix representing the policy.\n",
        "  env: OpenAI env. env.P represents the transition probabilities of the environment\n",
        "      env.P[s][a] is a list of transition tuples (prob, next_state, reward, done).\n",
        "      env.nS represent no. of states in the environment\n",
        "      env.nA represent no. of actions in the environment\n",
        "   theta: We stop evaluation once our value function change is less than theta for all states.\n",
        "        discount_factor: Gamma discount factor.\n",
        "\n",
        "   Returns:\n",
        "        Vector of length env.nS representing the value function.\n",
        "\n",
        "  \"\"\"\n",
        "\n",
        "  V = np.zeros(env.nS)\n",
        "  while True:\n",
        "    delta = 0\n",
        "\n",
        "    for s in range(env.nS):\n",
        "      v=0\n",
        "      #look at next possible actions\n",
        "      for a, action_prob in enumerate(policy[s]):\n",
        "        #For each action, Look at the possible next states....\n",
        "        for prob,next_state,reward,done in env.P[s][a]:\n",
        "          #calculated the expected value\n",
        "          v+= action_prob*prob(reward + discount_factor * V[next_state])\n",
        "\n",
        "          delta = max(delta,np.abs(v-V[s]))\n",
        "          V[s]=v\n",
        "\n",
        "        if delta < theta:\n",
        "          break\n",
        "  return np.array(V)\n",
        "    "
      ],
      "execution_count": 3,
      "outputs": []
    },
    {
      "cell_type": "code",
      "metadata": {
        "id": "CY9ociF4nDX8"
      },
      "source": [
        "def policy_improvement(env, policy_eval_fn = policy_eval, discount_factor=0.1):\n",
        "  def one_step_lookahead(state,V):\n",
        "    A = np.zeros(env.nA)\n",
        "    for a in range(env.nA):\n",
        "      for prob,next_state,reward,done in env.P[s][a]:\n",
        "        A[a]+= prob*(reward + discount_factor*V[next_state])\n",
        "    return A\n",
        "\n",
        "  #start with a random policy\n",
        "\n",
        "  policy = np.ones([env.nS,env.nA]) / env.nA\n",
        "\n",
        "  while True:\n",
        "    V = policy_eval_fn(policy,env,discount_factor)\n",
        "    \n",
        "    policy_stable = True\n",
        "    for s in range(env.nS):\n",
        "      chosen_a = np.argmax(policy[s])\n",
        "      action_values = one_step_lookahead(s,V)\n",
        "      best_a = np.argmax(action_values)\n",
        "\n",
        "      if chosen_a!=best_a:\n",
        "        policy_stable=False\n",
        "      policy[s] = np.eye(env.nA)[best_a]\n",
        "\n",
        "    if policy_stable:\n",
        "      return policy, V\n"
      ],
      "execution_count": 14,
      "outputs": []
    },
    {
      "cell_type": "code",
      "metadata": {
        "id": "TgQ1uFOlv8tF"
      },
      "source": [
        "policy, v = policy_improvement(env)\n",
        "print(\"Policy Probability Distribution:\")\n",
        "print(policy)\n",
        "print(\"\")\n",
        "\n",
        "print(\"Reshaped Grid Policy (0=up, 1=right, 2=down, 3=left):\")\n",
        "print(np.reshape(np.argmax(policy, axis=1), env.shape))\n",
        "print(\"\")\n",
        "\n",
        "print(\"Value Function:\")\n",
        "print(v)\n",
        "print(\"\")\n",
        "\n",
        "print(\"Reshaped Grid Value Function:\")\n",
        "print(v.reshape(env.shape))\n",
        "print(\"\")"
      ],
      "execution_count": null,
      "outputs": []
    },
    {
      "cell_type": "code",
      "metadata": {
        "id": "mHz7GGhYs2_6"
      },
      "source": [
        ""
      ],
      "execution_count": null,
      "outputs": []
    }
  ]
}