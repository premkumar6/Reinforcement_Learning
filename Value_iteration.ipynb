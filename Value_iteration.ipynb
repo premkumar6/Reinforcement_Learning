{
  "nbformat": 4,
  "nbformat_minor": 0,
  "metadata": {
    "colab": {
      "name": "Value_iteration.ipynb",
      "provenance": [],
      "authorship_tag": "ABX9TyOCghJiih4WQfP+gQaFXJnF",
      "include_colab_link": true
    },
    "kernelspec": {
      "name": "python3",
      "display_name": "Python 3"
    },
    "language_info": {
      "name": "python"
    }
  },
  "cells": [
    {
      "cell_type": "markdown",
      "metadata": {
        "id": "view-in-github",
        "colab_type": "text"
      },
      "source": [
        "<a href=\"https://colab.research.google.com/github/premkumar6/Reinforcement_Learning/blob/main/Value_iteration.ipynb\" target=\"_parent\"><img src=\"https://colab.research.google.com/assets/colab-badge.svg\" alt=\"Open In Colab\"/></a>"
      ]
    },
    {
      "cell_type": "code",
      "metadata": {
        "id": "JPfV6ioTxlws"
      },
      "source": [
        "import numpy as np\n",
        "import sys\n",
        "if \"../\" not in sys.path:\n",
        "  sys.path.append(\"../\") "
      ],
      "execution_count": 1,
      "outputs": []
    },
    {
      "cell_type": "code",
      "metadata": {
        "id": "bAEHMgByze1_"
      },
      "source": [
        "import gym\n",
        "env = gym.make('FrozenLake-v0')"
      ],
      "execution_count": 2,
      "outputs": []
    },
    {
      "cell_type": "code",
      "metadata": {
        "id": "Q3wLOXAjzlmq"
      },
      "source": [
        "def value_iteration(env, theta=0.0001, discount_factor=1.0):\n",
        "    \"\"\"\n",
        "    Value Iteration Algorithm.\n",
        "    \n",
        "    Args:\n",
        "        env: OpenAI env. env.P represents the transition probabilities of the environment.\n",
        "            env.P[s][a] is a list of transition tuples (prob, next_state, reward, done).\n",
        "            env.nS is a number of states in the environment. \n",
        "            env.nA is a number of actions in the environment.\n",
        "        theta: We stop evaluation once our value function change is less than theta for all states.\n",
        "        discount_factor: Gamma discount factor.\n",
        "        \n",
        "    Returns:\n",
        "        A tuple (policy, V) of the optimal policy and the optimal value function.\n",
        "    \"\"\"\n",
        "    \n",
        "    def one_step_lookahead(state, V):\n",
        "        \"\"\"\n",
        "        Helper function to calculate the value for all action in a given state.\n",
        "        \n",
        "        Args:\n",
        "            state: The state to consider (int)\n",
        "            V: The value to use as an estimator, Vector of length env.nS\n",
        "        \n",
        "        Returns:\n",
        "            A vector of length env.nA containing the expected value of each action.\n",
        "        \"\"\"\n",
        "        A = np.zeros(env.nA)\n",
        "        for a in range(env.nA):\n",
        "            for prob, next_state, reward, done in env.P[state][a]:\n",
        "                A[a] += prob * (reward + discount_factor * V[next_state])\n",
        "        return A\n",
        "    \n",
        "    V = np.zeros(env.nS)\n",
        "    while True:\n",
        "        # Stopping condition\n",
        "        delta = 0\n",
        "        # Update each state...\n",
        "        for s in range(env.nS):\n",
        "            # Do a one-step lookahead to find the best action\n",
        "            A = one_step_lookahead(s, V)\n",
        "            best_action_value = np.max(A)\n",
        "            # Calculate delta across all states seen so far\n",
        "            delta = max(delta, np.abs(best_action_value - V[s]))\n",
        "            # Update the value function. Ref: Sutton book eq. 4.10. \n",
        "            V[s] = best_action_value        \n",
        "        # Check if we can stop \n",
        "        if delta < theta:\n",
        "            break\n",
        "    \n",
        "    # Create a deterministic policy using the optimal value function\n",
        "    policy = np.zeros([env.nS, env.nA])\n",
        "    for s in range(env.nS):\n",
        "        # One step lookahead to find the best action for this state\n",
        "        A = one_step_lookahead(s, V)\n",
        "        best_action = np.argmax(A)\n",
        "        # Always take the best action\n",
        "        policy[s, best_action] = 1.0\n",
        "    \n",
        "    return policy, V"
      ],
      "execution_count": 7,
      "outputs": []
    },
    {
      "cell_type": "code",
      "metadata": {
        "colab": {
          "base_uri": "https://localhost:8080/"
        },
        "id": "ADnz2chs3yOT",
        "outputId": "8a8c0c48-d18e-4576-9749-ed5ce3908aa2"
      },
      "source": [
        "policy, v = value_iteration(env)\n",
        "print(\"Policy Probability Distribution:\")\n",
        "print(policy)\n",
        "print(\"\")\n",
        "\n",
        "\n",
        "print(\"Value Function:\")\n",
        "print(v)\n",
        "print(\"\")\n",
        "\n"
      ],
      "execution_count": 11,
      "outputs": [
        {
          "output_type": "stream",
          "text": [
            "Policy Probability Distribution:\n",
            "[[1. 0. 0. 0.]\n",
            " [0. 0. 0. 1.]\n",
            " [0. 0. 0. 1.]\n",
            " [0. 0. 0. 1.]\n",
            " [1. 0. 0. 0.]\n",
            " [1. 0. 0. 0.]\n",
            " [1. 0. 0. 0.]\n",
            " [1. 0. 0. 0.]\n",
            " [0. 0. 0. 1.]\n",
            " [0. 1. 0. 0.]\n",
            " [1. 0. 0. 0.]\n",
            " [1. 0. 0. 0.]\n",
            " [1. 0. 0. 0.]\n",
            " [0. 0. 1. 0.]\n",
            " [0. 1. 0. 0.]\n",
            " [1. 0. 0. 0.]]\n",
            "\n",
            "Value Function:\n",
            "[0.82182145 0.82126109 0.82087163 0.82067347 0.82199325 0.\n",
            " 0.52824715 0.         0.82226231 0.82260733 0.76389785 0.\n",
            " 0.         0.88171208 0.94085038 0.        ]\n",
            "\n"
          ],
          "name": "stdout"
        }
      ]
    }
  ]
}